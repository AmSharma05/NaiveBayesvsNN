{
  "nbformat": 4,
  "nbformat_minor": 0,
  "metadata": {
    "colab": {
      "provenance": [],
      "authorship_tag": "ABX9TyOxIKA9QyyJ+CmD3Z0t738R",
      "include_colab_link": true
    },
    "kernelspec": {
      "name": "python3",
      "display_name": "Python 3"
    },
    "language_info": {
      "name": "python"
    }
  },
  "cells": [
    {
      "cell_type": "markdown",
      "metadata": {
        "id": "view-in-github",
        "colab_type": "text"
      },
      "source": [
        "<a href=\"https://colab.research.google.com/github/AmSharma05/NaiveBayesvsNN/blob/main/NaiveBayesAlgorithm.ipynb\" target=\"_parent\"><img src=\"https://colab.research.google.com/assets/colab-badge.svg\" alt=\"Open In Colab\"/></a>"
      ]
    },
    {
      "cell_type": "code",
      "execution_count": null,
      "metadata": {
        "colab": {
          "base_uri": "https://localhost:8080/"
        },
        "id": "EULykj0J1oko",
        "outputId": "29b0a3ce-d03f-45bd-dd5a-12e72e55ff47"
      },
      "outputs": [
        {
          "output_type": "stream",
          "name": "stderr",
          "text": [
            "[nltk_data] Downloading package stopwords to /root/nltk_data...\n",
            "[nltk_data]   Unzipping corpora/stopwords.zip.\n"
          ]
        },
        {
          "output_type": "stream",
          "name": "stdout",
          "text": [
            "F1 score: 0.9376693766937669\n",
            "Precision: 0.9719101123595506\n",
            "Accuracy: 0.9834888729361091\n",
            "Recall: 0.9057591623036649\n"
          ]
        }
      ],
      "source": [
        "import pandas as pd\n",
        "import numpy as np\n",
        "import re\n",
        "import nltk\n",
        "from nltk.corpus import stopwords\n",
        "from nltk.stem import PorterStemmer\n",
        "from sklearn.feature_extraction.text import CountVectorizer\n",
        "from sklearn.naive_bayes import MultinomialNB\n",
        "from sklearn.metrics import f1_score, precision_score, accuracy_score, recall_score\n",
        "from sklearn.model_selection import train_test_split\n",
        "\n",
        "# Load the data\n",
        "data = pd.read_csv(\"spam.csv\", encoding='latin-1')\n",
        "data.drop([\"Unnamed: 2\", \"Unnamed: 3\", \"Unnamed: 4\"], axis=1, inplace=True)\n",
        "data.rename(columns={\"v1\":\"label\", \"v2\":\"text\"}, inplace=True)\n",
        "\n",
        "# Convert labels to binary\n",
        "data[\"label\"] = np.where(data[\"label\"]==\"spam\", 1, 0)\n",
        "\n",
        "# Preprocessing\n",
        "nltk.download('stopwords')\n",
        "stop_words = set(stopwords.words('english'))\n",
        "stemmer = PorterStemmer()\n",
        "\n",
        "def preprocess(text):\n",
        "    # Convert to lowercase\n",
        "    text = text.lower()\n",
        "\n",
        "    # Tokenize\n",
        "    tokens = re.findall('\\w+', text)\n",
        "\n",
        "    # Remove stop words\n",
        "    tokens = [word for word in tokens if word not in stop_words]\n",
        "\n",
        "    # Stem using Porter Stemming Algorithm\n",
        "    stemmed_tokens = [stemmer.stem(token) for token in tokens]\n",
        "\n",
        "    # Combine tokens into a string\n",
        "    return ' '.join(stemmed_tokens)\n",
        "\n",
        "data[\"text\"] = data[\"text\"].apply(preprocess)\n",
        "\n",
        "# Split data into training and testing sets\n",
        "X_train, X_test, y_train, y_test = train_test_split(data[\"text\"], data[\"label\"], test_size=0.25, random_state=42)\n",
        "\n",
        "# Convert text to matrix of token counts\n",
        "vectorizer = CountVectorizer()\n",
        "X_train_counts = vectorizer.fit_transform(X_train)\n",
        "X_test_counts = vectorizer.transform(X_test)\n",
        "\n",
        "# Train Naive Bayes classifier\n",
        "clf = MultinomialNB().fit(X_train_counts, y_train)\n",
        "\n",
        "# Predict on test set\n",
        "y_pred = clf.predict(X_test_counts)\n",
        "\n",
        "# Calculate evaluation metrics\n",
        "f1 = f1_score(y_test, y_pred)\n",
        "precision = precision_score(y_test, y_pred)\n",
        "accuracy = accuracy_score(y_test, y_pred)\n",
        "recall = recall_score(y_test, y_pred)\n",
        "\n",
        "print(\"F1 score:\", f1)\n",
        "print(\"Precision:\", precision)\n",
        "print(\"Accuracy:\", accuracy)\n",
        "print(\"Recall:\", recall)"
      ]
    }
  ]
}